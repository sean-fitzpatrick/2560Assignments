{
 "cells": [
  {
   "cell_type": "markdown",
   "id": "driving-torture",
   "metadata": {},
   "source": [
    "# Math 2560 Assignment 2: Partial Fractions\n",
    "## University of Lethbridge\n",
    "### January 26, 2022\n",
    "\n",
    "The method of partial fraction decomposition is a useful tool for evaluating integrals of rational functions, and it comes up in other contexts as well, such as the method of Laplace transforms for differential equations.\n",
    "\n",
    "A problem (which one quickly discovers) is that determining the coefficients for a partial fraction decomposition can be an exercise that is both tedious and error-prone. The brute force method (equating coefficients and solving a system of equations) is not particularly efficient.\n",
    "\n",
    "If it turns out that partial fractions are going to be a part of your life, then you'd like to be able to handle them quickly and accurately. You have two options:\n",
    "\n",
    "1. Let the computer do it for you\n",
    "2. Develop systematic methods (formulas, even!) to get the job done\n",
    "\n",
    "On this assignment you'll explore both options, using the Sympy Python library.\n",
    "\n",
    "After this, we will safely put partial fractions away on the shelf.\n",
    "\n",
    "The first step is to load the tools we'll need from Sympy library. Click on the cell below, and then either hit `Shift + Enter` on your keyboard, or click the `Run` button in the toolbar above."
   ]
  },
  {
   "cell_type": "code",
   "execution_count": null,
   "id": "objective-modification",
   "metadata": {},
   "outputs": [],
   "source": [
    "from sympy import init_printing, symbols, sqrt\n",
    "init_printing()\n",
    "x=symbols('x')"
   ]
  },
  {
   "cell_type": "markdown",
   "id": "corporate-badge",
   "metadata": {},
   "source": [
    "Your assignment problems are as follows:\n",
    "\n",
    "### 1. Introduction to some useful commands.\n",
    "\n",
    "I will provide the commands you need below, but you might find it helpful to read up a bit.\n",
    "\n",
    "In Python, multiplication (even by coefficients) is entered using `*`, and exponents are entered using `**`.\n",
    "So, for example, we could enter a quadratic polynomial like so:\n",
    "\n",
    "```\n",
    "p = x**2-4*x-5\n",
    "```\n",
    "\n",
    "The polynomial library we've loaded can do a lot of things, like factoring, and even long division.\n",
    "To get the computer to factor the polynomial above, we can use the `factor` command like so: `p.factor()`. Give this a try:"
   ]
  },
  {
   "cell_type": "code",
   "execution_count": null,
   "id": "flush-showcase",
   "metadata": {},
   "outputs": [],
   "source": [
    "from sympy import factor\n",
    "p=x**2-4*x-5\n",
    "p.factor()"
   ]
  },
  {
   "cell_type": "markdown",
   "id": "early-bidding",
   "metadata": {},
   "source": [
    "By default, Sympy only looks for rational roots. See what happens if you try to factor $q(x)=x^2-4x-3$. (Define your polynomial as `q`, rather than `q(x)`.)"
   ]
  },
  {
   "cell_type": "code",
   "execution_count": null,
   "id": "desperate-apollo",
   "metadata": {},
   "outputs": [],
   "source": []
  },
  {
   "cell_type": "markdown",
   "id": "separated-transparency",
   "metadata": {},
   "source": [
    "We can use the quadratic formula to figure out what the roots of this polynomial should be. In particular, we know that the roots will involve $\\sqrt{b^2-4ac}$. Here, $a=1, b=-4, c=-3$. We get:"
   ]
  },
  {
   "cell_type": "code",
   "execution_count": null,
   "id": "accepting-ordinary",
   "metadata": {},
   "outputs": [],
   "source": [
    "a=1\n",
    "b=-4\n",
    "c=-3\n",
    "sqrt(b**2-4*a*c)"
   ]
  },
  {
   "cell_type": "markdown",
   "id": "appreciated-relations",
   "metadata": {},
   "source": [
    "This tells us that our answer will involve $\\sqrt{7}$. To tell the computer that we want to allow this in our answer, we use the `extension` command. Assuming you have defined `q` appropriately above, try running the following:"
   ]
  },
  {
   "cell_type": "code",
   "execution_count": null,
   "id": "interracial-capability",
   "metadata": {},
   "outputs": [],
   "source": [
    "q.factor(extension=sqrt(7))"
   ]
  },
  {
   "cell_type": "markdown",
   "id": "liquid-purpose",
   "metadata": {},
   "source": [
    "For rational functions, Sympy provides the `apart` and `together` commands. The `apart` command performs partial fraction decomposition. Let's try it out:"
   ]
  },
  {
   "cell_type": "code",
   "execution_count": null,
   "id": "invalid-humanitarian",
   "metadata": {},
   "outputs": [],
   "source": [
    "from sympy import apart\n",
    "f = (x-4)/(x**2-5*x+6)\n",
    "f.apart()"
   ]
  },
  {
   "cell_type": "markdown",
   "id": "specific-respect",
   "metadata": {},
   "source": [
    "If the factors in the denominator involve irrational roots, you will have to add an extension using the same syntax as for the `factor` command. The `together` command lets us combine a sum of rational functions into a single expression:"
   ]
  },
  {
   "cell_type": "code",
   "execution_count": null,
   "id": "warming-tender",
   "metadata": {},
   "outputs": [],
   "source": [
    "from sympy import together\n",
    "together(2/(x-2)-1/(x-3))"
   ]
  },
  {
   "cell_type": "markdown",
   "id": "swedish-hostel",
   "metadata": {},
   "source": [
    "In some cases you may need to apply a `simplify` command at the end:"
   ]
  },
  {
   "cell_type": "code",
   "execution_count": null,
   "id": "macro-accused",
   "metadata": {},
   "outputs": [],
   "source": [
    "together(2/(x-2)-1/(x-3)).simplify()"
   ]
  },
  {
   "cell_type": "markdown",
   "id": "brave-fountain",
   "metadata": {},
   "source": [
    "In this case, nothing happens, because the expression is already simplified. Try it again for $f(x) = \\dfrac{1}{x+\\sqrt{3}-2}+\\dfrac{1}{x-\\sqrt{3}-2}$. First run the code below, and then append `.simplify()` to see the difference. (It is a minor change here; when complex numbers are involved, the difference can be dramatic!)"
   ]
  },
  {
   "cell_type": "code",
   "execution_count": null,
   "id": "alpine-republic",
   "metadata": {},
   "outputs": [],
   "source": [
    "together(1/(x+sqrt(3)-2)+1/(x-sqrt(3)-2))"
   ]
  },
  {
   "cell_type": "markdown",
   "id": "affiliated-palace",
   "metadata": {},
   "source": [
    "### 2. Demonstrate how this works with the following examples.\n",
    "\n",
    "For each example, first use the `factor` command to determine the factors of the denominator (just for information purposes), and then use the `apart` command to perform the decomposition.\n",
    "\n",
    "Remember that you need to use `**` for exponents, and `*` for multiplication, even by a coefficient.\n",
    "\n",
    "a) For the function $f(x)=\\dfrac{3x^2-2x+1}{x^4+2x^3+2x^2+2x+1}$\n",
    "\n",
    "b) For the function $g(x)=\\dfrac{2x+1}{x^3+2x^2-3x-6}$\n",
    "\n",
    "c) For the function $h(x)=\\dfrac{1}{(x^2-a^2)(x-b)^3}$ \n",
    "\n",
    "**Note**: you have to tell the computer what $a$ and $b$ are before you can use them! You will need the line `a, b = symbols('a b')` to define these as symbols. You will then need to tell the computer that $x$ is the variable. Instead of using `h.apart()`, use `h.apart(x)` to specify $x$ as the variable.\n",
    "\n",
    "d) For the function $r(x) = \\dfrac{1}{ax^2+bx+1}$. (Example from [Stack Overflow](https://stackoverflow.com/questions/39816638/partial-fraction-from-apart).)\n",
    "\n",
    "This one is tricky! We don't know what $a$ and $b$ are, so we don't even know if we should expect real roots! There is an algorithm for partial fractions that is more sophisticated than the 'method of undetermined coefficients' that we use. Adding `full=True` as an optional argument to `apart` tells the computer to use an algorithm due to [Manuel Bronstein](https://dl.acm.org/doi/10.1145/164081.164114).\n",
    "\n",
    "You probably will have no idea how to make sense of the result! Run the command to see what you get and then append your command with `.doit()`, and run again to get a human-readable result.)\n",
    "\n",
    "Click the + button in the toolbar above to get additional code cells as needed."
   ]
  },
  {
   "cell_type": "code",
   "execution_count": null,
   "id": "optical-hypothetical",
   "metadata": {},
   "outputs": [],
   "source": []
  },
  {
   "cell_type": "markdown",
   "id": "portuguese-poultry",
   "metadata": {},
   "source": [
    "### 3. Determine formulas.\n",
    "\n",
    "a) Suppose $f(x) = \\dfrac{p(x)}{(x-a)q(x)}$, where the degree of $q(x)$ is greater than or equal to the degree of $p(x)$, and where $q(a)\\neq 0$ (so that $x-a$ is not a factor of $q(x)$).\n",
    "\n",
    "If $A$ is the coefficient of $\\dfrac{1}{x-a}$ in the partial fraction decomposition of $f(x)$, (that is, $f(x) = \\dfrac{A}{x-a}+\\dfrac{r(x)}{q(x)}$ for some remainder $r(x)$) show that\n",
    "$$A = \\left.\\left(\\frac{p(x)}{q(x)}\\right)\\right\\vert_{x=a} = \\lim_{x\\to a}\\left[(x-a)f(x)\\right].$$\n",
    "\n",
    "b) Suppose $f(x) = \\dfrac{p(x)}{(x-a)^kq(x)}$, where $\\deg(q(x))+k\\gt \\deg(p(x))$, and $q(a)\\neq 0$.\n",
    "We get a decomposition\n",
    "\n",
    "$$f(x) = \\frac{A_0}{(x-a)^k}+\\frac{A_1}{(x-a)^{k-1}}+\\cdots+\\frac{A_{k-2}}{(x-a)^2}+\\frac{A_{k-1}}{x-a}+h(x),$$\n",
    "\n",
    "where $h(x) = \\dfrac{r(x)}{q(x)}$ represents all of the terms in the composition coming from other factors in the denominator. Multiplying both sides of the above equation by $(x-a)^k$, we get\n",
    "\n",
    "$$(x-a)^kf(x) = \\frac{p(x)}{q(x)} = A_0+A_1(x-a)+A_2(x-a)^2+\\cdots + A_{k-1}(x-a)^{k-1}+(x-a)^kh(x).$$\n",
    "\n",
    "If $g(x) = \\dfrac{p(x)}{q(x)}$, show that $A_j = \\dfrac{g^{(j)}(a)}{j!}$ for each $j=0,1,\\ldots, k-1$.\n",
    "\n",
    "**Note**: if you want to do part (a) or (b) on paper, you can. Take a photo (JPG or PNG) and then upload it to Syzygy, in the same folder as this notebook. If your file is `mywork.jpg` you can include it in a markdown cell using `![solution to part (b)](mywork.jpg)`. \n",
    "\n",
    "c) Confirm the result in part (b) for the function $f(x) = \\dfrac{x^2+5x+2}{(x-2)^4(x^2+1)}$.\n",
    "\n",
    "*Suggestion*: define $g(x)$ in a code cell, and then use the SymPy `diff` command to compute the derivatives. For example, $g'''(x)$ can be computed using `diff(g,x,x,x)` or `diff(g,x,3)`. You can then evaluate using the `subs()` command. For example, $g''(4)$ would be `diff(g,x,x).subs(x,4)`.\n",
    "\n",
    "Once you have computed $A_0, A_1, A_2, A_3$ using the method from part (b), confirm your work using the `apart` command."
   ]
  },
  {
   "cell_type": "code",
   "execution_count": null,
   "id": "occasional-healing",
   "metadata": {},
   "outputs": [],
   "source": []
  },
  {
   "cell_type": "markdown",
   "id": "invalid-manufacturer",
   "metadata": {},
   "source": [
    "### 4. What about irreducible quadratics?\n",
    "\n",
    "#### (This part does not need to be handed in)\n",
    "\n",
    "The above formulas only work for linear terms. What if you have an irreducible quadratic? Well, these are only irreducible if you insist on working over the real numbers. Over the **complex** numbers, they factor just fine! The formulas from Question 3 still work, if you allow $a$ to be a complex number.\n",
    "\n",
    "Of course, we don't want complex numbers in our answer, but the good news is that complex roots to real polynomials occur in *conjugate pairs* (like $x=\\pm 2i$ for $x^2+4$, or $x=2\\pm i$ for $x^2-4x+5$.\n",
    "\n",
    "a) Use the formula from part (a) of Question 3 to determine the coefficients of $\\dfrac{1}{x-2i}$ and $\\dfrac{1}{x+2i}$ for the function $f(x) = \\dfrac{2x+1}{(x-1)(x^2+4)}$.\n",
    "\n",
    "Note that the complex number $i=\\sqrt{-1}$ is called in Sympy as `I`.\n",
    "\n",
    "b) Use the `together()` command to combine the two complex terms into a single term. Do any complex numbers remain?\n",
    "\n",
    "c) Use the `apart()` command to verify your work. Note that `apart(f,extention=I)` will allow you to perform a partial fraction decomposition with complex factors.\n",
    "\n",
    "**Caution**: if you define (for example) $g(x)=(x-2i)f(x)$ (`g = (x-2*I)*f`) and try to evaluate at $2i$, (using `g.subs(x,2*I)`) you will get the answer `NaN` because this is really $0/0$. You can replace `subs` by `limit`, or define $g(x)$ as $\\dfrac{2x+1}{(x-1)(x+2i)}$ (i.e. cancel the $x-2i$ factors before evaluating).\n",
    "\n",
    "You may want to wrap many of your answers in `simplify()` to get a nicer result."
   ]
  },
  {
   "cell_type": "code",
   "execution_count": null,
   "id": "thousand-attitude",
   "metadata": {},
   "outputs": [],
   "source": [
    "from sympy import I"
   ]
  },
  {
   "cell_type": "code",
   "execution_count": null,
   "id": "hispanic-trick",
   "metadata": {},
   "outputs": [],
   "source": []
  }
 ],
 "metadata": {
  "kernelspec": {
   "display_name": "Python 3",
   "language": "python",
   "name": "python3"
  },
  "language_info": {
   "codemirror_mode": {
    "name": "ipython",
    "version": 3
   },
   "file_extension": ".py",
   "mimetype": "text/x-python",
   "name": "python",
   "nbconvert_exporter": "python",
   "pygments_lexer": "ipython3",
   "version": "3.9.7"
  }
 },
 "nbformat": 4,
 "nbformat_minor": 5
}
